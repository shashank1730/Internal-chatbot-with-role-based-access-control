{
 "cells": [
  {
   "cell_type": "code",
   "execution_count": 1,
   "id": "f350392e",
   "metadata": {},
   "outputs": [],
   "source": [
    "from langchain_community.document_loaders import DirectoryLoader\n",
    "import streamlit as st\n",
    "\n",
    "\n"
   ]
  },
  {
   "cell_type": "code",
   "execution_count": null,
   "id": "2791ee91",
   "metadata": {},
   "outputs": [
    {
     "ename": "FileNotFoundError",
     "evalue": "Directory not found: 'resources/data/{role}'",
     "output_type": "error",
     "traceback": [
      "\u001b[1;31m---------------------------------------------------------------------------\u001b[0m",
      "\u001b[1;31mFileNotFoundError\u001b[0m                         Traceback (most recent call last)",
      "Cell \u001b[1;32mIn[2], line 2\u001b[0m\n\u001b[0;32m      1\u001b[0m loader \u001b[38;5;241m=\u001b[39m DirectoryLoader(\u001b[38;5;124m\"\u001b[39m\u001b[38;5;124mresources/data/\u001b[39m\u001b[38;5;132;01m{role}\u001b[39;00m\u001b[38;5;124m\"\u001b[39m)\n\u001b[1;32m----> 2\u001b[0m docs \u001b[38;5;241m=\u001b[39m \u001b[43mloader\u001b[49m\u001b[38;5;241;43m.\u001b[39;49m\u001b[43mload\u001b[49m\u001b[43m(\u001b[49m\u001b[43m)\u001b[49m\n\u001b[0;32m      3\u001b[0m \u001b[38;5;28mprint\u001b[39m(\u001b[38;5;28mlen\u001b[39m(docs))\n",
      "File \u001b[1;32mc:\\Users\\nalla\\anaconda3\\envs\\genai\\lib\\site-packages\\langchain_community\\document_loaders\\directory.py:117\u001b[0m, in \u001b[0;36mDirectoryLoader.load\u001b[1;34m(self)\u001b[0m\n\u001b[0;32m    115\u001b[0m \u001b[38;5;28;01mdef\u001b[39;00m\u001b[38;5;250m \u001b[39m\u001b[38;5;21mload\u001b[39m(\u001b[38;5;28mself\u001b[39m) \u001b[38;5;241m-\u001b[39m\u001b[38;5;241m>\u001b[39m List[Document]:\n\u001b[0;32m    116\u001b[0m \u001b[38;5;250m    \u001b[39m\u001b[38;5;124;03m\"\"\"Load documents.\"\"\"\u001b[39;00m\n\u001b[1;32m--> 117\u001b[0m     \u001b[38;5;28;01mreturn\u001b[39;00m \u001b[38;5;28;43mlist\u001b[39;49m\u001b[43m(\u001b[49m\u001b[38;5;28;43mself\u001b[39;49m\u001b[38;5;241;43m.\u001b[39;49m\u001b[43mlazy_load\u001b[49m\u001b[43m(\u001b[49m\u001b[43m)\u001b[49m\u001b[43m)\u001b[49m\n",
      "File \u001b[1;32mc:\\Users\\nalla\\anaconda3\\envs\\genai\\lib\\site-packages\\langchain_community\\document_loaders\\directory.py:123\u001b[0m, in \u001b[0;36mDirectoryLoader.lazy_load\u001b[1;34m(self)\u001b[0m\n\u001b[0;32m    121\u001b[0m p \u001b[38;5;241m=\u001b[39m Path(\u001b[38;5;28mself\u001b[39m\u001b[38;5;241m.\u001b[39mpath)\n\u001b[0;32m    122\u001b[0m \u001b[38;5;28;01mif\u001b[39;00m \u001b[38;5;129;01mnot\u001b[39;00m p\u001b[38;5;241m.\u001b[39mexists():\n\u001b[1;32m--> 123\u001b[0m     \u001b[38;5;28;01mraise\u001b[39;00m \u001b[38;5;167;01mFileNotFoundError\u001b[39;00m(\u001b[38;5;124mf\u001b[39m\u001b[38;5;124m\"\u001b[39m\u001b[38;5;124mDirectory not found: \u001b[39m\u001b[38;5;124m'\u001b[39m\u001b[38;5;132;01m{\u001b[39;00m\u001b[38;5;28mself\u001b[39m\u001b[38;5;241m.\u001b[39mpath\u001b[38;5;132;01m}\u001b[39;00m\u001b[38;5;124m'\u001b[39m\u001b[38;5;124m\"\u001b[39m)\n\u001b[0;32m    124\u001b[0m \u001b[38;5;28;01mif\u001b[39;00m \u001b[38;5;129;01mnot\u001b[39;00m p\u001b[38;5;241m.\u001b[39mis_dir():\n\u001b[0;32m    125\u001b[0m     \u001b[38;5;28;01mraise\u001b[39;00m \u001b[38;5;167;01mValueError\u001b[39;00m(\u001b[38;5;124mf\u001b[39m\u001b[38;5;124m\"\u001b[39m\u001b[38;5;124mExpected directory, got file: \u001b[39m\u001b[38;5;124m'\u001b[39m\u001b[38;5;132;01m{\u001b[39;00m\u001b[38;5;28mself\u001b[39m\u001b[38;5;241m.\u001b[39mpath\u001b[38;5;132;01m}\u001b[39;00m\u001b[38;5;124m'\u001b[39m\u001b[38;5;124m\"\u001b[39m)\n",
      "\u001b[1;31mFileNotFoundError\u001b[0m: Directory not found: 'resources/data/{role}'"
     ]
    }
   ],
   "source": [
    "loader = DirectoryLoader(\"resources/data/engineering\")\n",
    "docs = loader.load()\n",
    "print(len(docs))"
   ]
  },
  {
   "cell_type": "code",
   "execution_count": 4,
   "id": "438829c0",
   "metadata": {},
   "outputs": [
    {
     "name": "stdout",
     "output_type": "stream",
     "text": [
      "FinSolve Technologies Engineering Document\n",
      "\n",
      "1. Introduction\n",
      "\n",
      "1.1 Company Overview\n",
      "\n",
      "FinSolve Technologies is a leading FinTech company headquartered in Bangalore, India, with operations across North America, Europe, and Asia-Pacific. Founded in 2018, FinSolve provides innovative financial solutions, including digital banking, payment processing, wealth management, and enterprise financial analytics, serving over 2 million individual users and 10,000 businesses globally.\n",
      "\n",
      "1.2 Purpose\n",
      "\n",
      "This engineering document outlines the technical architecture, development processes, and operational guidelines for FinSolve's product ecosystem. It serves as a comprehensive guide for engineering teams, stakeholders, and partners to ensure alignment with FinSolve's mission: \"To empower financial freedom through secure, scalable, and innovative technology solutions.\"\n",
      "\n",
      "1.3 Scope\n",
      "\n",
      "This document covers:\n",
      "\n",
      "System architecture and infrastructure\n",
      "\n",
      "Software development lifecycle (SDLC)\n",
      "\n",
      "Technology stack\n",
      "\n",
      "Security \n"
     ]
    }
   ],
   "source": [
    "print(docs[0].page_content[:1000])"
   ]
  },
  {
   "cell_type": "code",
   "execution_count": 5,
   "id": "9d2051cb",
   "metadata": {},
   "outputs": [
    {
     "data": {
      "text/plain": [
       "[Document(metadata={'source': 'resources\\\\data\\\\engineering\\\\engineering_master_doc.md'}, page_content='FinSolve Technologies Engineering Document\\n\\n1. Introduction\\n\\n1.1 Company Overview\\n\\nFinSolve Technologies is a leading FinTech company headquartered in Bangalore, India, with operations across North America, Europe, and Asia-Pacific. Founded in 2018, FinSolve provides innovative financial solutions, including digital banking, payment processing, wealth management, and enterprise financial analytics, serving over 2 million individual users and 10,000 businesses globally.\\n\\n1.2 Purpose\\n\\nThis engineering document outlines the technical architecture, development processes, and operational guidelines for FinSolve\\'s product ecosystem. It serves as a comprehensive guide for engineering teams, stakeholders, and partners to ensure alignment with FinSolve\\'s mission: \"To empower financial freedom through secure, scalable, and innovative technology solutions.\"\\n\\n1.3 Scope\\n\\nThis document covers:\\n\\nSystem architecture and infrastructure\\n\\nSoftware development lifecycle (SDLC)\\n\\nTechnology stack'),\n",
       " Document(metadata={'source': 'resources\\\\data\\\\engineering\\\\engineering_master_doc.md'}, page_content=\"1.3 Scope\\n\\nThis document covers:\\n\\nSystem architecture and infrastructure\\n\\nSoftware development lifecycle (SDLC)\\n\\nTechnology stack\\n\\nSecurity and compliance frameworks\\n\\nTesting and quality assurance methodologies\\n\\nDeployment and DevOps practices\\n\\nMonitoring and maintenance protocols\\n\\nFuture technology roadmap\\n\\n1.4 Document Control\\n\\nVersion Date Author Changes 1.0 2025-05-01 Engineering Team Initial version 1.1 2025-05-14 Tech Architecture Council Updated diagrams and monitoring section\\n\\n2. System Architecture\\n\\n2.1 Overview\\n\\nFinSolve's architecture is a microservices-based, cloud-native system designed for scalability, resilience, and security. It leverages a modular design to support rapid feature development and seamless integration with third-party financial systems (e.g., payment gateways, credit bureaus, regulatory reporting systems).\\n\\n2.2 High-Level Architecture\\n\\n``` [Client Apps] ├── Mobile Apps (iOS, Android) ├── Web App (React) └── APIs (REST, GraphQL)\"),\n",
       " Document(metadata={'source': 'resources\\\\data\\\\engineering\\\\engineering_master_doc.md'}, page_content='2.2 High-Level Architecture\\n\\n``` [Client Apps] ├── Mobile Apps (iOS, Android) ├── Web App (React) └── APIs (REST, GraphQL)\\n\\n[API Gateway] └── AWS API Gateway (Routing, Authentication, Rate Limiting)\\n\\n[Microservices Layer] ├── Authentication Service (OAuth 2.0, JWT) ├── Payment Processing Service ├── Wealth Management Service ├── Analytics Service └── Notification Service\\n\\n[Data Layer] ├── PostgreSQL (Transactional Data) ├── MongoDB (User Profiles, Metadata) ├── Redis (Caching, Session Management) └── Amazon S3 (Documents, Backups)\\n\\n[Infrastructure] ├── AWS (EC2, ECS, Lambda) ├── Kubernetes (Orchestration) └── Cloudflare (CDN, DDoS Protection) ```\\n\\n2.3 Key Components\\n\\n2.3.1 Client Applications\\n\\nMobile Apps: Native mobile applications developed using Swift (iOS) and Kotlin (Android), providing a seamless user experience with biometric authentication, push notifications, and offline capabilities.'),\n",
       " Document(metadata={'source': 'resources\\\\data\\\\engineering\\\\engineering_master_doc.md'}, page_content='Web Application: A responsive Single Page Application (SPA) built with React, Redux, and Tailwind CSS, optimized for various screen sizes and compliant with WCAG 2.1 accessibility standards.\\n\\nAPI Interfaces: RESTful and GraphQL APIs enabling third-party integrations, partner systems, and future expansions.\\n\\n2.3.2 API Gateway\\n\\nCentralized entry point for all client requests\\n\\nImplements authentication, authorization, and rate limiting\\n\\nProvides API versioning and documentation via Swagger/OpenAPI\\n\\nHandles request logging and basic analytics\\n\\nAWS API Gateway with custom Lambda authorizers for sophisticated permission models\\n\\n2.3.3 Microservices\\n\\nAuthentication Service: Manages user identity, authentication (OAuth 2.0), and authorization using JWT tokens. Supports multi-factor authentication and Single Sign-On (SSO).\\n\\nPayment Processing Service: Handles domestic and international payment transactions, recurring payments, and reconciliation with multiple payment gateways.'),\n",
       " Document(metadata={'source': 'resources\\\\data\\\\engineering\\\\engineering_master_doc.md'}, page_content='Payment Processing Service: Handles domestic and international payment transactions, recurring payments, and reconciliation with multiple payment gateways.\\n\\nWealth Management Service: Provides portfolio management, investment recommendations, and financial goal tracking.\\n\\nAnalytics Service: Processes user financial data to deliver insights, spending patterns, and budgeting recommendations.\\n\\nNotification Service: Manages push notifications, emails, and SMS alerts based on user preferences and system events.\\n\\n2.3.4 Data Layer\\n\\nPostgreSQL: Primary relational database for transactional data requiring ACID compliance.\\n\\nMongoDB: NoSQL database storing user profiles, preferences, and semi-structured data.\\n\\nRedis: In-memory data store for caching, session management, and pub/sub messaging between services.\\n\\nAmazon S3: Object storage for documents, statements, user uploads, and encrypted backups.\\n\\n2.3.5 Infrastructure')]"
      ]
     },
     "execution_count": 5,
     "metadata": {},
     "output_type": "execute_result"
    }
   ],
   "source": [
    "from langchain.text_splitter import RecursiveCharacterTextSplitter\n",
    "\n",
    "text_splitter = RecursiveCharacterTextSplitter(chunk_size = 1000, chunk_overlap = 200)\n",
    "documents = text_splitter.split_documents(docs)\n",
    "documents[:5]"
   ]
  },
  {
   "cell_type": "code",
   "execution_count": null,
   "id": "28fa7e25",
   "metadata": {},
   "outputs": [
    {
     "name": "stderr",
     "output_type": "stream",
     "text": [
      "C:\\Users\\nalla\\AppData\\Local\\Temp\\ipykernel_25908\\2625238470.py:3: LangChainDeprecationWarning: The class `OllamaEmbeddings` was deprecated in LangChain 0.3.1 and will be removed in 1.0.0. An updated version of the class exists in the :class:`~langchain-ollama package and should be used instead. To use it run `pip install -U :class:`~langchain-ollama` and import as `from :class:`~langchain_ollama import OllamaEmbeddings``.\n",
      "  db = Chroma.from_documents(documents[:],OllamaEmbeddings())\n"
     ]
    }
   ],
   "source": [
    "from langchain_community.embeddings import OllamaEmbeddings\n",
    "from langchain_community.vectorstores import Chroma\n",
    "db = Chroma.from_documents(documents[:],OllamaEmbeddings())"
   ]
  },
  {
   "cell_type": "code",
   "execution_count": 7,
   "id": "b04b71bf",
   "metadata": {},
   "outputs": [
    {
     "data": {
      "text/plain": [
       "'Post-incident analysis and lessons learned\\n\\n5.3.3 Security Training\\n\\nMandatory security awareness training for all employees\\n\\nRole-specific security training for developers, administrators\\n\\nQuarterly phishing simulations\\n\\nSecurity champions program within engineering teams\\n\\n6. Testing and Quality Assurance\\n\\n6.1 Testing Strategy\\n\\n6.1.1 Test Pyramid\\n\\nUnit Tests:\\n\\nCover 90% of code base\\n\\nFocus on business logic and edge cases\\n\\nImplemented using Jest (Node.js), Pytest (Python), Go testing\\n\\nIntegration Tests:\\n\\nValidate microservice interactions\\n\\nTest database operations and external service integrations\\n\\nImplemented using Postman/Newman and custom test harnesses\\n\\nEnd-to-End Tests:\\n\\nSimulate complete user journeys\\n\\nCover critical business flows\\n\\nImplemented with Cypress (web) and Appium (mobile)\\n\\n6.1.2 Specialized Testing\\n\\nPerformance Testing:\\n\\nLoad testing with JMeter (target: 2,000 concurrent users)\\n\\nStress testing to identify breaking points'"
      ]
     },
     "execution_count": 7,
     "metadata": {},
     "output_type": "execute_result"
    }
   ],
   "source": [
    "query = \"what's the scope\"\n",
    "result = db.similarity_search(query)\n",
    "result[0].page_content"
   ]
  },
  {
   "cell_type": "code",
   "execution_count": 8,
   "id": "368122bb",
   "metadata": {},
   "outputs": [
    {
     "data": {
      "text/plain": [
       "OllamaLLM(model='llama2')"
      ]
     },
     "execution_count": 8,
     "metadata": {},
     "output_type": "execute_result"
    }
   ],
   "source": [
    "from langchain_ollama import OllamaLLM\n",
    "llm = OllamaLLM(model=\"llama2\")\n",
    "llm"
   ]
  },
  {
   "cell_type": "code",
   "execution_count": 28,
   "id": "edb53a7f",
   "metadata": {},
   "outputs": [],
   "source": [
    "from langchain_core.prompts import ChatPromptTemplate\n",
    "prompt = ChatPromptTemplate.from_template(\n",
    "    \n",
    "    \"\"\"\n",
    "    You are a helpful assistant who helps users to search all <context> you have and provide answer to them and addtionally provide them the link to that file where you have fetched the answer from.\n",
    "    <context>\n",
    "    {context}\n",
    "    </context>\n",
    "\n",
    "    input: {input}\n",
    "    \"\"\"\n",
    ")"
   ]
  },
  {
   "cell_type": "code",
   "execution_count": 29,
   "id": "19fce924",
   "metadata": {},
   "outputs": [],
   "source": [
    "from langchain.chains.combine_documents import create_stuff_documents_chain\n",
    "document_chain = create_stuff_documents_chain(llm,prompt)"
   ]
  },
  {
   "cell_type": "code",
   "execution_count": 30,
   "id": "041806ff",
   "metadata": {},
   "outputs": [
    {
     "data": {
      "text/plain": [
       "VectorStoreRetriever(tags=['Chroma', 'OllamaEmbeddings'], vectorstore=<langchain_community.vectorstores.chroma.Chroma object at 0x000001EC892B1630>, search_kwargs={})"
      ]
     },
     "execution_count": 30,
     "metadata": {},
     "output_type": "execute_result"
    }
   ],
   "source": [
    "retriever = db.as_retriever()\n",
    "retriever"
   ]
  },
  {
   "cell_type": "code",
   "execution_count": 31,
   "id": "927a1d4c",
   "metadata": {},
   "outputs": [],
   "source": [
    "from langchain.chains import create_retrieval_chain\n",
    "retrieval_chain = create_retrieval_chain(retriever,document_chain)"
   ]
  },
  {
   "cell_type": "code",
   "execution_count": 33,
   "id": "f1de4ca2",
   "metadata": {},
   "outputs": [
    {
     "name": "stdout",
     "output_type": "stream",
     "text": [
      "Hello there! As a helpful assistant, I'm glad you asked me for advice on choosing the right tech stack for your project. Based on the context you provided, here are some recommendations for a suitable tech stack:\n",
      "\n",
      "1. Programming Languages:\n",
      "\t* Go Lang: A popular choice for building microservices architectures, especially in the financial technology (FinTech) industry. It offers a perfect blend of simplicity, reliability, and performance.\n",
      "\t* Java/Kotlin: A widely used language in the enterprise sector, particularly for building robust backend systems. These languages are known for their platform independence, which allows you to deploy your application across various environments.\n",
      "2. Frameworks and Libraries:\n",
      "\t* Spring Boot: An excellent choice for building microservices architectures, especially when combined with Go Lang or Java/Kotlin. It provides a comprehensive set of tools for developing, testing, and deploying applications.\n",
      "\t* Reactor: A lightweight framework that simplifies asynchronous programming in Go Lang. It helps you write cleaner, more maintainable code while handling complex concurrent tasks.\n",
      "\t* Docker: An essential tool for containerization, which allows you to package your application with its dependencies and run it consistently across different environments.\n",
      "3. Databases:\n",
      "\t* PostgreSQL/MySQL: Popular open-source relational databases that provide a robust data storage solution for your application. They support complex queries, transactions, and are highly scalable.\n",
      "\t* MongoDB/Cassandra: NoSQL databases that excel in handling large amounts of unstructured or semi-structured data. These databases are ideal for applications that require flexible schema models or high availability.\n",
      "4. Cloud Provider:\n",
      "\t* AWS/GCP/Azure: The three most popular cloud providers offer a wide range of services, including computing, storage, and security. They provide pre-built components and tools for building your application, making it easier to develop and deploy your project.\n",
      "5. Security Measures:\n",
      "\t* OAuth 2.0: A widely used authorization protocol that enables secure communication between your application and external services. It helps protect sensitive data by controlling access through unique tokens.\n",
      "\t* JSON Web Tokens (JWT): A compact, URL-safe means of representing claims between two parties. JWT can be used for authentication, authorization, or other purposes where a token is required.\n",
      "6. Monitoring and Maintenance:\n",
      "\t* Prometheus/Grafana: A popular combination for monitoring and observing your application's performance and health. They provide real-time metrics and visualizations to ensure your system runs smoothly and efficiently.\n",
      "\t* Elasticsearch/Kibana: An effective duo for log analysis, providing a scalable and flexible solution for storing and querying log data. It helps you identify issues faster and gain insights into your application's behavior.\n",
      "\n",
      "Considering your context, I recommend using a tech stack that includes Go Lang or Java/Kotlin as the primary language, along with Docker for containerization, PostgreSQL or MongoDB for databases, and AWS/GCP/Azure for cloud services. This combination should provide a solid foundation for building a robust and scalable application.\n",
      "\n",
      "Remember to tailor your tech stack according to your project's specific requirements and constraints. Don't hesitate to ask me any further questions or clarify any aspects of the tech stack. Happy coding!\n"
     ]
    }
   ],
   "source": [
    "response = retrieval_chain.invoke({\"input\": \"I am fresher just joined what techstack should I use?\"})\n",
    "print(response['answer'])"
   ]
  },
  {
   "cell_type": "code",
   "execution_count": null,
   "id": "69943e72",
   "metadata": {},
   "outputs": [],
   "source": []
  }
 ],
 "metadata": {
  "kernelspec": {
   "display_name": "genai",
   "language": "python",
   "name": "python3"
  },
  "language_info": {
   "codemirror_mode": {
    "name": "ipython",
    "version": 3
   },
   "file_extension": ".py",
   "mimetype": "text/x-python",
   "name": "python",
   "nbconvert_exporter": "python",
   "pygments_lexer": "ipython3",
   "version": "3.10.16"
  }
 },
 "nbformat": 4,
 "nbformat_minor": 5
}
